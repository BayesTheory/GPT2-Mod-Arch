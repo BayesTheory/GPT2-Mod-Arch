{
 "cells": [
  {
   "cell_type": "code",
   "execution_count": null,
   "id": "c7c44daa-c5f3-40c9-a117-4bb552f45d2f",
   "metadata": {},
   "outputs": [
    {
     "name": "stdout",
     "output_type": "stream",
     "text": [
      "\n",
      "================ CONFIG ATIVA ================\n",
      "{\n",
      "  \"batch_size\": 64,\n",
      "  \"beta1\": 0.9,\n",
      "  \"beta2\": 0.95,\n",
      "  \"block_size\": 256,\n",
      "  \"early_stopping_patience\": 3,\n",
      "  \"eval_interval\": 150,\n",
      "  \"eval_steps\": 20,\n",
      "  \"init_from\": \"scratch\",\n",
      "  \"learning_rate\": 0.0002,\n",
      "  \"log_dir\": \"log_scratch\",\n",
      "  \"logit_soft_cap\": 50.0,\n",
      "  \"lr_schedule\": \"cosine\",\n",
      "  \"max_lr\": 0.0002,\n",
      "  \"max_steps\": 500,\n",
      "  \"min_lr\": 5e-06,\n",
      "  \"model_type\": \"modern\",\n",
      "  \"n_embd\": 384,\n",
      "  \"n_head\": 6,\n",
      "  \"n_kv_head\": 3,\n",
      "  \"n_layer\": 6,\n",
      "  \"no_bias\": true,\n",
      "  \"plateau_cooldown\": 1,\n",
      "  \"plateau_factor\": 0.5,\n",
      "  \"plateau_patience\": 1,\n",
      "  \"plateau_threshold\": 0.001,\n",
      "  \"plateau_threshold_mode\": \"rel\",\n",
      "  \"save_interval\": 300,\n",
      "  \"seed\": 1337,\n",
      "  \"total_batch_size\": 2048,\n",
      "  \"use_compile\": true,\n",
      "  \"use_early_stopping\": true,\n",
      "  \"use_rmsnorm\": true,\n",
      "  \"use_rope\": true,\n",
      "  \"use_swiglu\": true,\n",
      "  \"vocab_size\": 50257,\n",
      "  \"warmup_steps\": 200,\n",
      "  \"weight_decay\": 0.1\n",
      "}\n",
      "=============================================\n",
      "\n",
      "MLflow run started. Experiment='TinyStories', Run='TinyModel-modern'\n",
      "Inicializando modelo moderno do zero.\n",
      "Usando device: cuda\n",
      "Usando precisão mista (bfloat16): True\n",
      "Encontrados 1 shards para train\n",
      "Encontrados 1 shards para val\n",
      "[compile] backend='aot_eager'\n",
      "Batch size total (tokens): 2048\n",
      "-> Micro-batch por GPU: 64\n",
      "-> GPUs (world_size): 1\n",
      "=> Passos de acumulação (grad_accum_steps): 32\n",
      "Passo     0 | Val loss: 10.9724\n"
     ]
    },
    {
     "name": "stderr",
     "output_type": "stream",
     "text": [
      "                                                                     \r"
     ]
    },
    {
     "name": "stdout",
     "output_type": "stream",
     "text": [
      "Passo     0 | Train loss: 10.976976 | lr: 1.0000e-06 | dt: 27342.99ms | seq/s: 74.90 | tok/s: 19174\n"
     ]
    },
    {
     "name": "stderr",
     "output_type": "stream",
     "text": [
      "step 1 | micro-steps:  12%|█▎        | 4/32 [00:02<00:17,  1.57it/s]"
     ]
    }
   ],
   "source": [
    "%run main.py --config configs.gpt2_from_scratch --model-type modern --experiment TinyStories --run-name TinyModel-modern\n"
   ]
  },
  {
   "cell_type": "code",
   "execution_count": null,
   "id": "d4d082d2-5244-415c-b3ff-79c7665df334",
   "metadata": {},
   "outputs": [],
   "source": []
  },
  {
   "cell_type": "code",
   "execution_count": 3,
   "id": "8f8b2171-eaa3-4933-baca-b0790ea2e376",
   "metadata": {},
   "outputs": [
    {
     "name": "stdout",
     "output_type": "stream",
     "text": [
      "{\n",
      "  \"ckpt_path\": \"mlruns/706298003787278334/2ab5a67b5c35444eb888c19ca8f8be80/artifacts/model_00499.pt\",\n",
      "  \"exists\": true,\n",
      "  \"sha256\": \"da9d46f6a495d9276570538e446f99f7dc598f0cbaeebe849e11416ad4eaeb5c\",\n",
      "  \"size_bytes\": 1482757561\n",
      "}\n"
     ]
    }
   ],
   "source": [
    "%run dockerize.py --no-docker --artifacts \"mlruns/706298003787278334/2ab5a67b5c35444eb888c19ca8f8be80/artifacts\" --ckpt model_00499.pt\n",
    "\n"
   ]
  }
 ],
 "metadata": {
  "kernelspec": {
   "display_name": "Python 3 (ipykernel)",
   "language": "python",
   "name": "python3"
  },
  "language_info": {
   "codemirror_mode": {
    "name": "ipython",
    "version": 3
   },
   "file_extension": ".py",
   "mimetype": "text/x-python",
   "name": "python",
   "nbconvert_exporter": "python",
   "pygments_lexer": "ipython3",
   "version": "3.8.10"
  }
 },
 "nbformat": 4,
 "nbformat_minor": 5
}
